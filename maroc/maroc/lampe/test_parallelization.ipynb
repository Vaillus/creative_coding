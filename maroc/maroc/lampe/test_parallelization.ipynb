{
 "cells": [
  {
   "cell_type": "code",
   "execution_count": 1,
   "metadata": {},
   "outputs": [],
   "source": [
    "import numpy as np\n",
    "import matplotlib.pyplot as plt\n",
    "from arc import Arc\n",
    "from losange import Losange\n",
    "import os\n",
    "os.chdir(os.path.dirname(os.path.abspath('__file__')))\n",
    "\n",
    "import jax.numpy as jnp\n",
    "import jax"
   ]
  },
  {
   "cell_type": "code",
   "execution_count": 2,
   "metadata": {},
   "outputs": [],
   "source": [
    "center = 200\n",
    "wid = 200\n",
    "hei = 300\n",
    "b_border = 350\n",
    "base = (b_border, center)\n",
    "left = (b_border -100, center-int(wid/2))\n",
    "right = (b_border -100, center+int(wid/2))\n",
    "top = (b_border - hei, center)\n",
    "lcenter = (390, 100)\n",
    "rcenter = (390, 300)\n",
    "arc = Arc(lcenter, top_point=left, bottom_point=base)\n",
    "img = np.ones((400, 400, 3), dtype = \"uint8\") * 255"
   ]
  },
  {
   "cell_type": "code",
   "execution_count": 3,
   "metadata": {},
   "outputs": [
    {
     "name": "stdout",
     "output_type": "stream",
     "text": [
      "259 μs ± 1.87 μs per loop (mean ± std. dev. of 7 runs, 1,000 loops each)\n"
     ]
    }
   ],
   "source": [
    "%%timeit\n",
    "arc.render_vanilla(img)"
   ]
  },
  {
   "cell_type": "code",
   "execution_count": 4,
   "metadata": {},
   "outputs": [
    {
     "name": "stdout",
     "output_type": "stream",
     "text": [
      "106 μs ± 2.48 μs per loop (mean ± std. dev. of 7 runs, 10,000 loops each)\n"
     ]
    }
   ],
   "source": [
    "%%timeit\n",
    "arc.render_vectorized(img)"
   ]
  },
  {
   "cell_type": "code",
   "execution_count": 5,
   "metadata": {},
   "outputs": [
    {
     "name": "stdout",
     "output_type": "stream",
     "text": [
      "246 μs ± 25.7 μs per loop (mean ± std. dev. of 7 runs, 1,000 loops each)\n"
     ]
    }
   ],
   "source": [
    "%%timeit\n",
    "arc.render_bresenham(img)"
   ]
  },
  {
   "cell_type": "code",
   "execution_count": 3,
   "metadata": {},
   "outputs": [
    {
     "name": "stderr",
     "output_type": "stream",
     "text": [
      "Platform 'METAL' is experimental and not all JAX functionality may be correctly supported!\n"
     ]
    },
    {
     "name": "stdout",
     "output_type": "stream",
     "text": [
      "Metal device set to: Apple M1 Pro\n",
      "\n",
      "systemMemory: 32.00 GB\n",
      "maxCacheSize: 10.67 GB\n",
      "\n"
     ]
    },
    {
     "name": "stderr",
     "output_type": "stream",
     "text": [
      "WARNING: All log messages before absl::InitializeLog() is called are written to STDERR\n",
      "W0000 00:00:1729564234.567399 4447505 mps_client.cc:510] WARNING: JAX Apple GPU support is experimental and not all JAX functionality is correctly supported!\n",
      "I0000 00:00:1729564234.581468 4447505 service.cc:145] XLA service 0x1071ea600 initialized for platform METAL (this does not guarantee that XLA will be used). Devices:\n",
      "I0000 00:00:1729564234.581482 4447505 service.cc:153]   StreamExecutor device (0): Metal, <undefined>\n",
      "I0000 00:00:1729564234.582859 4447505 mps_client.cc:406] Using Simple allocator.\n",
      "I0000 00:00:1729564234.582873 4447505 mps_client.cc:384] XLA backend will use up to 22906109952 bytes on device 0 for SimpleAllocator.\n"
     ]
    }
   ],
   "source": [
    "img = jnp.ones((400, 400, 3), dtype = \"uint8\") * 255"
   ]
  },
  {
   "cell_type": "code",
   "execution_count": 4,
   "metadata": {},
   "outputs": [
    {
     "name": "stderr",
     "output_type": "stream",
     "text": [
      "/opt/homebrew/lib/python3.12/site-packages/jax/_src/ops/scatter.py:92: FutureWarning: scatter inputs have incompatible types: cannot safely cast value from dtype=int32 to dtype=uint8 with jax_numpy_dtype_promotion='standard'. In future JAX releases this will result in an error.\n",
      "  warnings.warn(\n"
     ]
    },
    {
     "name": "stdout",
     "output_type": "stream",
     "text": [
      "1.89 ms ± 45.3 μs per loop (mean ± std. dev. of 7 runs, 1,000 loops each)\n"
     ]
    }
   ],
   "source": [
    "%%timeit\n",
    "arc.render_jax(img)"
   ]
  },
  {
   "cell_type": "code",
   "execution_count": 3,
   "metadata": {},
   "outputs": [
    {
     "name": "stderr",
     "output_type": "stream",
     "text": [
      "Platform 'METAL' is experimental and not all JAX functionality may be correctly supported!\n"
     ]
    },
    {
     "name": "stdout",
     "output_type": "stream",
     "text": [
      "Metal device set to: Apple M1 Pro\n",
      "\n",
      "systemMemory: 32.00 GB\n",
      "maxCacheSize: 10.67 GB\n",
      "\n"
     ]
    },
    {
     "name": "stderr",
     "output_type": "stream",
     "text": [
      "WARNING: All log messages before absl::InitializeLog() is called are written to STDERR\n",
      "W0000 00:00:1729342914.381566 4086210 mps_client.cc:510] WARNING: JAX Apple GPU support is experimental and not all JAX functionality is correctly supported!\n",
      "I0000 00:00:1729342914.398460 4086210 service.cc:145] XLA service 0x1274045f0 initialized for platform METAL (this does not guarantee that XLA will be used). Devices:\n",
      "I0000 00:00:1729342914.398492 4086210 service.cc:153]   StreamExecutor device (0): Metal, <undefined>\n",
      "I0000 00:00:1729342914.400108 4086210 mps_client.cc:406] Using Simple allocator.\n",
      "I0000 00:00:1729342914.400119 4086210 mps_client.cc:384] XLA backend will use up to 22906109952 bytes on device 0 for SimpleAllocator.\n"
     ]
    }
   ],
   "source": [
    "x_range = jnp.arange(-arc.a, arc.a + 1)\n",
    "y_range = jnp.arange(-arc.b, arc.b + 1)"
   ]
  },
  {
   "cell_type": "code",
   "execution_count": 4,
   "metadata": {},
   "outputs": [],
   "source": [
    "x_range = jnp.arange(-arc.a, arc.a + 1)\n",
    "xmax = max(arc.tp[0],arc.bp[0])\n",
    "xmin = min(arc.tp[0],arc.bp[0])\n",
    "ymax = max(arc.tp[1],arc.bp[1])\n",
    "ymin = min(arc.tp[1],arc.bp[1])\n",
    "x_in_bounds = (x_range + arc.center[0] <= xmax) & (x_range + arc.center[0] >= xmin)\n",
    "x_range = x_range[x_in_bounds]\n",
    "y_range = jnp.arange(-arc.b, arc.b + 1)\n",
    "y_in_bounds = (y_range + arc.center[1] <= ymax) & (y_range + arc.center[1] >= ymin)\n",
    "y_range = y_range[y_in_bounds]"
   ]
  },
  {
   "cell_type": "code",
   "execution_count": 5,
   "metadata": {},
   "outputs": [],
   "source": [
    "yp = arc.b * jnp.sqrt(1 - (x_range/arc.a)**2)\n",
    "ym = -yp\n"
   ]
  },
  {
   "cell_type": "code",
   "execution_count": 6,
   "metadata": {},
   "outputs": [],
   "source": [
    "xp = arc.a * jnp.sqrt(1 - (y_range/arc.b)**2)\n",
    "xm = -xp\n",
    "\n"
   ]
  },
  {
   "cell_type": "code",
   "execution_count": 7,
   "metadata": {},
   "outputs": [],
   "source": [
    "# get the x_range, yp pairs for yp in y_range\n",
    "yp_in_bounds = (yp + arc.center[1] <= ymax) & (yp + arc.center[1] >= ymin)\n",
    "yp_pairs = jnp.array([x_range, yp]).T[yp_in_bounds]\n",
    "# get the x_range, ym pairs for ym in y_range\n",
    "ym_in_bounds = (ym + arc.center[1] <= ymax) & (ym + arc.center[1] >= ymin)\n",
    "ym_pairs = jnp.array([x_range, ym]).T[ym_in_bounds]\n",
    "\n",
    "# get the x_range, yp pairs for yp in y_range\n",
    "xp_in_bounds = (xp + arc.center[0] <= xmax) & (xp + arc.center[0] >= xmin)\n",
    "xp_pairs = jnp.array([xp, y_range]).T[xp_in_bounds]\n",
    "# get the x_range, ym pairs for ym in y_range\n",
    "xm_in_bounds = (xm + arc.center[0] <= xmax) & (xm + arc.center[0] >= xmin)\n",
    "xm_pairs = jnp.array([xm, y_range]).T[xm_in_bounds]"
   ]
  },
  {
   "cell_type": "code",
   "execution_count": 10,
   "metadata": {},
   "outputs": [
    {
     "data": {
      "text/plain": [
       "Array([-140., -139., -138., -137., -136., -135., -134., -133., -132.,\n",
       "       -131., -130., -129., -128., -127., -126., -125., -124., -123.,\n",
       "       -122., -121., -120., -119., -118., -117., -116., -115., -114.,\n",
       "       -113., -112., -111., -110., -109., -108., -107., -106., -105.,\n",
       "       -104., -103., -102., -101., -100.,  -99.,  -98.,  -97.,  -96.,\n",
       "        -95.,  -94.,  -93.,  -92.,  -91.,  -90.,  -89.,  -88.,  -87.,\n",
       "        -86.,  -85.,  -84.,  -83.,  -82.,  -81.,  -80.,  -79.,  -78.,\n",
       "        -77.,  -76.,  -75.,  -74.,  -73.,  -72.,  -71.,  -70.,  -69.,\n",
       "        -68.,  -67.,  -66.,  -65.,  -64.,  -63.,  -62.,  -61.,  -60.,\n",
       "        -59.,  -58.,  -57.,  -56.,  -55.,  -54.,  -53.,  -52.,  -51.,\n",
       "        -50.,  -49.,  -48.,  -47.,  -46.,  -45.,  -44.,  -43.,  -42.,\n",
       "        -41.,  -40., -140., -139., -138., -137., -136., -135., -134.,\n",
       "       -133., -132., -131., -130., -129., -128., -127., -126., -125.,\n",
       "       -124., -123., -122., -121., -120., -119., -118., -117., -116.,\n",
       "       -115., -114., -113., -112., -111., -110., -109., -108., -107.,\n",
       "       -106., -105., -104., -103., -102., -101., -100.,  -99.,  -98.,\n",
       "        -97.,  -96.,  -95.,  -94.,  -93.,  -92.,  -91.,  -90.,  -89.,\n",
       "        -88.,  -87.,  -86.,  -85.,  -84.,  -83.,  -82.,  -81.,  -80.,\n",
       "        -79.,  -78.,  -77.,  -76.,  -75.,  -74.,  -73.,  -72.,  -71.,\n",
       "        -70.,  -69.,  -68.,  -67.,  -66.,  -65.,  -64.,  -63.,  -62.,\n",
       "        -61.,  -60.,  -59.,  -58.,  -57.,  -56.,  -55.,  -54.,  -53.,\n",
       "        -52.,  -51.,  -50.,  -49.,  -48.,  -47.,  -46.,  -45.,  -44.,\n",
       "        -43.,  -42.,  -41.,  -40.], dtype=float32)"
      ]
     },
     "execution_count": 10,
     "metadata": {},
     "output_type": "execute_result"
    }
   ],
   "source": [
    "merged_pairs[:, 0]"
   ]
  },
  {
   "cell_type": "code",
   "execution_count": 13,
   "metadata": {},
   "outputs": [
    {
     "data": {
      "image/png": "[encoded data removed]",
      "text/plain": [
       "<Figure size 640x480 with 1 Axes>"
      ]
     },
     "metadata": {},
     "output_type": "display_data"
    }
   ],
   "source": [
    "pair_p = jnp.array([x_range, ym]).T\n",
    "pair_m = jnp.array([x_range, yp]).T\n",
    "merged_pairs = jnp.concatenate([pair_p, pair_m])\n",
    "plt.plot(merged_pairs[:, 0], merged_pairs[:, 1], '.')\n",
    "plt.show()\n"
   ]
  },
  {
   "cell_type": "code",
   "execution_count": 22,
   "metadata": {},
   "outputs": [
    {
     "data": {
      "image/png": "[encoded data removed]",
      "text/plain": [
       "<Figure size 640x480 with 1 Axes>"
      ]
     },
     "metadata": {},
     "output_type": "display_data"
    }
   ],
   "source": [
    "# merge the content of yp_pairs, ym_pairs, xp_pairs, xm_pairs such that there are no duplicate points\n",
    "merged_pairs = jnp.concatenate([yp_pairs, ym_pairs, xp_pairs, xm_pairs])\n",
    "# sort the merged_pairs such that the x values are in ascending order\n",
    "merged_pairs = merged_pairs[merged_pairs[:, 0].argsort()]\n",
    "# add the center point to the merged_pairs\n",
    "merged_pairs = merged_pairs + jnp.array(arc.center)\n",
    "merged_pairs = merged_pairs.astype(int)\n",
    "# remove duplicates rows\n",
    "merged_pairs = np.unique(merged_pairs, axis=0)\n",
    "\n",
    "plt.plot(merged_pairs[:, 0], merged_pairs[:, 1], '.')\n",
    "plt.show()\n",
    "\n"
   ]
  },
  {
   "cell_type": "code",
   "execution_count": 16,
   "metadata": {},
   "outputs": [
    {
     "name": "stdout",
     "output_type": "stream",
     "text": [
      "101\n",
      "1\n",
      "0\n",
      "100\n"
     ]
    }
   ],
   "source": [
    "print(yp_in_bounds.sum())\n",
    "print(ym_in_bounds.sum())\n",
    "print(xp_in_bounds.sum())\n",
    "print(xm_in_bounds.sum())"
   ]
  },
  {
   "cell_type": "code",
   "execution_count": 25,
   "metadata": {},
   "outputs": [
    {
     "data": {
      "text/plain": [
       "array([[250, 100],\n",
       "       [250, 101],\n",
       "       [250, 102],\n",
       "       [250, 103],\n",
       "       [250, 104],\n",
       "       [250, 105],\n",
       "       [250, 106],\n",
       "       [250, 107],\n",
       "       [250, 108],\n",
       "       [250, 109],\n",
       "       [250, 110],\n",
       "       [250, 111],\n",
       "       [250, 112],\n",
       "       [251, 112],\n",
       "       [251, 113],\n",
       "       [251, 114],\n",
       "       [251, 115],\n",
       "       [251, 116],\n",
       "       [251, 117],\n",
       "       [252, 117],\n",
       "       [252, 118],\n",
       "       [252, 119],\n",
       "       [252, 120],\n",
       "       [252, 121],\n",
       "       [253, 121],\n",
       "       [253, 122],\n",
       "       [253, 123],\n",
       "       [253, 124],\n",
       "       [254, 124],\n",
       "       [254, 125],\n",
       "       [254, 126],\n",
       "       [254, 127],\n",
       "       [255, 127],\n",
       "       [255, 128],\n",
       "       [255, 129],\n",
       "       [255, 130],\n",
       "       [256, 130],\n",
       "       [256, 131],\n",
       "       [256, 132],\n",
       "       [257, 132],\n",
       "       [257, 133],\n",
       "       [257, 134],\n",
       "       [258, 134],\n",
       "       [258, 135],\n",
       "       [258, 136],\n",
       "       [259, 136],\n",
       "       [259, 137],\n",
       "       [259, 138],\n",
       "       [260, 138],\n",
       "       [260, 139],\n",
       "       [260, 140],\n",
       "       [261, 140],\n",
       "       [261, 141],\n",
       "       [261, 142],\n",
       "       [262, 142],\n",
       "       [262, 143],\n",
       "       [263, 143],\n",
       "       [263, 144],\n",
       "       [263, 145],\n",
       "       [264, 145],\n",
       "       [264, 146],\n",
       "       [265, 146],\n",
       "       [265, 147],\n",
       "       [265, 148],\n",
       "       [266, 148],\n",
       "       [266, 149],\n",
       "       [267, 149],\n",
       "       [267, 150],\n",
       "       [267, 151],\n",
       "       [268, 151],\n",
       "       [268, 152],\n",
       "       [269, 152],\n",
       "       [269, 153],\n",
       "       [270, 153],\n",
       "       [270, 154],\n",
       "       [271, 154],\n",
       "       [271, 155],\n",
       "       [272, 155],\n",
       "       [272, 156],\n",
       "       [272, 157],\n",
       "       [273, 157],\n",
       "       [273, 158],\n",
       "       [274, 158],\n",
       "       [274, 159],\n",
       "       [275, 159],\n",
       "       [275, 160],\n",
       "       [276, 160],\n",
       "       [276, 161],\n",
       "       [277, 161],\n",
       "       [277, 162],\n",
       "       [278, 162],\n",
       "       [278, 163],\n",
       "       [279, 163],\n",
       "       [279, 164],\n",
       "       [280, 164],\n",
       "       [280, 165],\n",
       "       [281, 165],\n",
       "       [281, 166],\n",
       "       [282, 166],\n",
       "       [282, 167],\n",
       "       [283, 167],\n",
       "       [284, 167],\n",
       "       [284, 168],\n",
       "       [285, 168],\n",
       "       [285, 169],\n",
       "       [286, 169],\n",
       "       [286, 170],\n",
       "       [287, 170],\n",
       "       [287, 171],\n",
       "       [288, 171],\n",
       "       [288, 172],\n",
       "       [289, 172],\n",
       "       [290, 172],\n",
       "       [290, 173],\n",
       "       [291, 173],\n",
       "       [291, 174],\n",
       "       [292, 174],\n",
       "       [293, 174],\n",
       "       [293, 175],\n",
       "       [294, 175],\n",
       "       [294, 176],\n",
       "       [295, 176],\n",
       "       [295, 177],\n",
       "       [296, 177],\n",
       "       [297, 177],\n",
       "       [297, 178],\n",
       "       [298, 178],\n",
       "       [298, 179],\n",
       "       [299, 179],\n",
       "       [300, 179],\n",
       "       [300, 180],\n",
       "       [301, 180],\n",
       "       [302, 180],\n",
       "       [302, 181],\n",
       "       [303, 181],\n",
       "       [303, 182],\n",
       "       [304, 182],\n",
       "       [305, 182],\n",
       "       [305, 183],\n",
       "       [306, 183],\n",
       "       [307, 183],\n",
       "       [307, 184],\n",
       "       [308, 184],\n",
       "       [309, 184],\n",
       "       [309, 185],\n",
       "       [310, 185],\n",
       "       [311, 185],\n",
       "       [311, 186],\n",
       "       [312, 186],\n",
       "       [313, 186],\n",
       "       [313, 187],\n",
       "       [314, 187],\n",
       "       [315, 187],\n",
       "       [315, 188],\n",
       "       [316, 188],\n",
       "       [317, 188],\n",
       "       [317, 189],\n",
       "       [318, 189],\n",
       "       [319, 189],\n",
       "       [319, 190],\n",
       "       [320, 190],\n",
       "       [321, 190],\n",
       "       [322, 190],\n",
       "       [322, 191],\n",
       "       [323, 191],\n",
       "       [324, 191],\n",
       "       [324, 192],\n",
       "       [325, 192],\n",
       "       [326, 192],\n",
       "       [327, 192],\n",
       "       [327, 193],\n",
       "       [328, 193],\n",
       "       [329, 193],\n",
       "       [330, 193],\n",
       "       [330, 194],\n",
       "       [331, 194],\n",
       "       [332, 194],\n",
       "       [333, 194],\n",
       "       [333, 195],\n",
       "       [334, 195],\n",
       "       [335, 195],\n",
       "       [336, 195],\n",
       "       [336, 196],\n",
       "       [337, 196],\n",
       "       [338, 196],\n",
       "       [339, 196],\n",
       "       [339, 197],\n",
       "       [340, 197],\n",
       "       [341, 197],\n",
       "       [342, 197],\n",
       "       [343, 197],\n",
       "       [343, 198],\n",
       "       [344, 198],\n",
       "       [345, 198],\n",
       "       [346, 198],\n",
       "       [347, 198],\n",
       "       [347, 199],\n",
       "       [348, 199],\n",
       "       [349, 199],\n",
       "       [350, 199]], dtype=int32)"
      ]
     },
     "execution_count": 25,
     "metadata": {},
     "output_type": "execute_result"
    }
   ],
   "source": [
    "merged_pairs = merged_pairs.astype(int)\n",
    "# remove duplicates rows\n",
    "merged_pairs = np.unique(merged_pairs, axis=0)\n",
    "merged_pairs"
   ]
  },
  {
   "cell_type": "code",
   "execution_count": null,
   "metadata": {},
   "outputs": [],
   "source": []
  }
 ],
 "metadata": {
  "kernelspec": {
   "display_name": "Python 3",
   "language": "python",
   "name": "python3"
  },
  "language_info": {
   "codemirror_mode": {
    "name": "ipython",
    "version": 3
   },
   "file_extension": ".py",
   "mimetype": "text/x-python",
   "name": "python",
   "nbconvert_exporter": "python",
   "pygments_lexer": "ipython3",
   "version": "3.12.7"
  }
 },
 "nbformat": 4,
 "nbformat_minor": 2
}
