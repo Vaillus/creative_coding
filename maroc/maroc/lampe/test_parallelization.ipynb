{
 "cells": [
  {
   "cell_type": "code",
   "execution_count": 1,
   "metadata": {},
   "outputs": [],
   "source": [
    "import numpy as np\n",
    "import matplotlib.pyplot as plt\n",
    "from arc import Arc\n",
    "from losange import Losange\n",
    "import os\n",
    "os.chdir(os.path.dirname(os.path.abspath('__file__')))\n",
    "\n",
    "import jax.numpy as jnp"
   ]
  },
  {
   "cell_type": "code",
   "execution_count": 2,
   "metadata": {},
   "outputs": [],
   "source": [
    "center = 200\n",
    "wid = 200\n",
    "hei = 300\n",
    "b_border = 350\n",
    "base = (b_border, center)\n",
    "left = (b_border -100, center-int(wid/2))\n",
    "right = (b_border -100, center+int(wid/2))\n",
    "top = (b_border - hei, center)\n",
    "lcenter = (390, 100)\n",
    "rcenter = (390, 300)\n",
    "arc = Arc(lcenter, top_point=left, bottom_point=base)\n",
    "img = np.ones((400, 400, 3), dtype = \"uint8\") * 255"
   ]
  },
  {
   "cell_type": "code",
   "execution_count": 9,
   "metadata": {},
   "outputs": [],
   "source": [
    "x_range = jnp.arange(-arc.a, arc.a + 1)\n",
    "xmax = max(arc.tp[0],arc.bp[0])\n",
    "xmin = min(arc.tp[0],arc.bp[0])\n",
    "ymax = max(arc.tp[1],arc.bp[1])\n",
    "ymin = min(arc.tp[1],arc.bp[1])\n",
    "x_in_bounds = (x_range + arc.center[0] <= xmax) & (x_range + arc.center[0] >= xmin)\n",
    "x_range = x_range[x_in_bounds]\n",
    "y_range = jnp.arange(-arc.b, arc.b + 1)\n",
    "y_in_bounds = (y_range + arc.center[1] <= ymax) & (y_range + arc.center[1] >= ymin)\n",
    "y_range = y_range[y_in_bounds]"
   ]
  },
  {
   "cell_type": "code",
   "execution_count": 11,
   "metadata": {},
   "outputs": [
    {
     "data": {
      "text/plain": [
       "Array([ 0.      , 12.408147, 17.516329, 21.4144  , 24.682535, 27.545881,\n",
       "       30.1201  , 32.47399 , 34.652508, 36.686916, 38.6     , 40.40897 ,\n",
       "       42.12727 , 43.765564, 45.332558, 46.83536 , 48.28    , 49.67154 ,\n",
       "       51.014336, 52.312126, 53.568188, 54.7854  , 55.966286, 57.113106,\n",
       "       58.227867, 59.31238 , 60.368286, 61.39704 , 62.399998, 63.378384,\n",
       "       64.33332 , 65.26582 , 66.17685 , 67.06729 , 67.937935, 68.789536,\n",
       "       69.622795, 70.43837 , 71.23686 , 72.01884 , 72.784836, 73.53536 ,\n",
       "       74.27086 , 74.99179 , 75.69856 , 76.39158 , 77.07121 , 77.73779 ,\n",
       "       78.39167 , 79.033165, 79.66255 , 80.28014 , 80.88619 , 81.48097 ,\n",
       "       82.0647  , 82.63764 , 83.200005, 83.752   , 84.29383 , 84.8257  ,\n",
       "       85.347786, 85.860275, 86.363335, 86.857124, 87.341805, 87.81753 ,\n",
       "       88.28444 , 88.74267 , 89.19236 , 89.63365 , 90.06664 , 90.49147 ,\n",
       "       90.90823 , 91.317055, 91.71804 , 92.11129 , 92.4969  , 92.87497 ,\n",
       "       93.24559 , 93.60884 , 93.96482 , 94.31361 , 94.65527 , 94.989914,\n",
       "       95.31757 , 95.63835 , 95.9523  , 96.2595  , 96.56    , 96.853874,\n",
       "       97.141174, 97.42197 , 97.696304, 97.96424 , 98.22583 , 98.481125,\n",
       "       98.730156, 98.973   , 99.20968 , 99.44025 , 99.66474 ],      dtype=float32)"
      ]
     },
     "execution_count": 11,
     "metadata": {},
     "output_type": "execute_result"
    }
   ],
   "source": [
    "yp = arc.b * jnp.sqrt(1 - (x_range/arc.a)**2)\n",
    "ym = -yp\n"
   ]
  },
  {
   "cell_type": "code",
   "execution_count": 12,
   "metadata": {},
   "outputs": [],
   "source": [
    "xp = arc.a * jnp.sqrt(1 - (y_range/arc.b)**2)\n",
    "xm = -xp\n",
    "\n"
   ]
  },
  {
   "cell_type": "code",
   "execution_count": 24,
   "metadata": {},
   "outputs": [],
   "source": [
    "# get the x_range, yp pairs for yp in y_range\n",
    "yp_in_bounds = (yp + arc.center[1] <= ymax) & (yp + arc.center[1] >= ymin)\n",
    "yp_pairs = jnp.array([x_range, yp]).T[yp_in_bounds]\n",
    "# get the x_range, ym pairs for ym in y_range\n",
    "ym_in_bounds = (ym + arc.center[1] <= ymax) & (ym + arc.center[1] >= ymin)\n",
    "ym_pairs = jnp.array([x_range, ym]).T[ym_in_bounds]\n",
    "\n",
    "# get the x_range, yp pairs for yp in y_range\n",
    "xp_in_bounds = (xp + arc.center[0] <= xmax) & (xp + arc.center[0] >= xmin)\n",
    "xp_pairs = jnp.array([x_range, xp]).T[xp_in_bounds]\n",
    "# get the x_range, ym pairs for ym in y_range\n",
    "xm_in_bounds = (xm + arc.center[0] <= xmax) & (xm + arc.center[0] >= xmin)\n",
    "xm_pairs = jnp.array([x_range, xm]).T[xm_in_bounds]"
   ]
  },
  {
   "cell_type": "code",
   "execution_count": 32,
   "metadata": {},
   "outputs": [
    {
     "data": {
      "image/png": "[encoded data removed]",
      "text/plain": [
       "<Figure size 640x480 with 1 Axes>"
      ]
     },
     "metadata": {},
     "output_type": "display_data"
    }
   ],
   "source": [
    "# merge the content of yp_pairs, ym_pairs, xp_pairs, xm_pairs such that there are no duplicate points\n",
    "merged_pairs = jnp.concatenate([yp_pairs, ym_pairs, xp_pairs, xm_pairs])\n",
    "# sort the merged_pairs such that the x values are in ascending order\n",
    "merged_pairs = merged_pairs[merged_pairs[:, 0].argsort()]\n",
    "# add the center point to the merged_pairs\n",
    "merged_pairs = merged_pairs + jnp.array(arc.center)\n",
    "\n",
    "plt.plot(merged_pairs[:, 0], merged_pairs[:, 1], 'o')\n",
    "plt.show()\n",
    "\n"
   ]
  },
  {
   "cell_type": "code",
   "execution_count": 25,
   "metadata": {},
   "outputs": [
    {
     "name": "stdout",
     "output_type": "stream",
     "text": [
      "101\n",
      "1\n",
      "0\n",
      "100\n"
     ]
    }
   ],
   "source": [
    "print(yp_in_bounds.sum())\n",
    "print(ym_in_bounds.sum())\n",
    "print(xp_in_bounds.sum())\n",
    "print(xm_in_bounds.sum())"
   ]
  },
  {
   "cell_type": "code",
   "execution_count": 33,
   "metadata": {},
   "outputs": [
    {
     "data": {
      "text/plain": [
       "Array([390, 100], dtype=int32)"
      ]
     },
     "execution_count": 33,
     "metadata": {},
     "output_type": "execute_result"
    }
   ],
   "source": [
    "jnp.array(arc.center)"
   ]
  },
  {
   "cell_type": "code",
   "execution_count": null,
   "metadata": {},
   "outputs": [],
   "source": []
  }
 ],
 "metadata": {
  "kernelspec": {
   "display_name": "Python 3",
   "language": "python",
   "name": "python3"
  },
  "language_info": {
   "codemirror_mode": {
    "name": "ipython",
    "version": 3
   },
   "file_extension": ".py",
   "mimetype": "text/x-python",
   "name": "python",
   "nbconvert_exporter": "python",
   "pygments_lexer": "ipython3",
   "version": "3.12.7"
  }
 },
 "nbformat": 4,
 "nbformat_minor": 2
}
