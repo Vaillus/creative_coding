{
 "cells": [
  {
   "cell_type": "markdown",
   "metadata": {},
   "source": [
    "On va diviser le positionnement des points en deux parties :\n",
    "- l'angle\n",
    "- la distance au centre\n",
    "Qui sont tous les deux fonctions de la hauteur du point, tel que l'angle est décallé de a (initialement à 137.5°) et la distance est une fonction qu'on obtient à l'aide de la classe Goutt."
   ]
  },
  {
   "cell_type": "code",
   "execution_count": 1,
   "metadata": {},
   "outputs": [],
   "source": [
    "import numpy as np\n",
    "\n",
    "import maroc.toolkit.toolkit as tk\n",
    "\n",
    "\n",
    "offset = 137.4\n",
    "def get_angle(h, offset= 137.5):\n",
    "    return np.deg2rad(h * offset)\n",
    "\n",
    "h = np.arange(100)\n",
    "angles = get_angle(h)\n",
    "# distances = get_distance(h)\n",
    "\n",
    "pts = tk.rad2point((0.0,0.0), 1, angles)\n"
   ]
  },
  {
   "cell_type": "code",
   "execution_count": 2,
   "metadata": {},
   "outputs": [
    {
     "data": {
      "image/png": "[encoded data removed]",
      "text/plain": [
       "<Figure size 640x480 with 1 Axes>"
      ]
     },
     "metadata": {},
     "output_type": "display_data"
    }
   ],
   "source": [
    "import matplotlib.pyplot as plt\n",
    "\n",
    "plt.scatter(*np.array(pts))\n",
    "plt.show()\n"
   ]
  },
  {
   "cell_type": "code",
   "execution_count": 3,
   "metadata": {},
   "outputs": [
    {
     "data": {
      "application/vnd.jupyter.widget-view+json": {
       "model_id": "9d5cc50b38164a45b3607e5f98026974",
       "version_major": 2,
       "version_minor": 0
      },
      "text/plain": [
       "interactive(children=(FloatSlider(value=137.5, description='offset', max=140.0, min=135.0), FloatSlider(value=…"
      ]
     },
     "metadata": {},
     "output_type": "display_data"
    },
    {
     "data": {
      "text/plain": [
       "<function __main__.update_plot(offset=137.5, npts=100)>"
      ]
     },
     "execution_count": 3,
     "metadata": {},
     "output_type": "execute_result"
    }
   ],
   "source": [
    "import numpy as np\n",
    "import matplotlib.pyplot as plt\n",
    "from ipywidgets import interact, FloatSlider\n",
    "from mpl_toolkits.mplot3d import Axes3D\n",
    "\n",
    "def get_angle(h, offset=137.5):\n",
    "    \"\"\"Get the angle for a given height\"\"\"\n",
    "    return np.deg2rad(h * offset)\n",
    "\n",
    "# Data setup\n",
    "\n",
    "\n",
    "# The key change is making the plot update function completely self-contained\n",
    "def update_plot(offset=137.5, npts=100):\n",
    "    # Create new figure each time\n",
    "    fig = plt.figure(figsize=(8, 6))\n",
    "    ax = fig.add_subplot(111, projection='3d')\n",
    "    h = np.arange(npts)\n",
    "    # Calculate points\n",
    "    angles = get_angle(h, offset)\n",
    "    pts = tk.rad2point((0.0, 0.0), 1, angles)\n",
    "    x, y = pts\n",
    "    \n",
    "    # Create new scatter plot\n",
    "    ax.scatter(x, y, h / npts)\n",
    "    ax.set_xlabel('x')\n",
    "    ax.set_ylabel('y')\n",
    "    ax.set_zlabel('h')\n",
    "    \n",
    "    plt.show()\n",
    "\n",
    "# Interactive slider\n",
    "offset_slider = FloatSlider(\n",
    "    min=135, \n",
    "    max=140, \n",
    "    step=0.1, \n",
    "    value=137.5, \n",
    "    description='offset'\n",
    ")\n",
    "\n",
    "npts_slider = FloatSlider(\n",
    "    min=10, \n",
    "    max=1000, \n",
    "    step=10, \n",
    "    value=100, \n",
    "    description='npts'\n",
    ")\n",
    "\n",
    "# Create interactive plot\n",
    "interact(update_plot, offset=offset_slider, npts=npts_slider)"
   ]
  },
  {
   "cell_type": "markdown",
   "metadata": {},
   "source": [
    "# Donner un peu de forme à tout ça."
   ]
  },
  {
   "cell_type": "code",
   "execution_count": 4,
   "metadata": {},
   "outputs": [],
   "source": [
    "from maroc.goutte import goutte\n",
    "import importlib\n",
    "import numpy as np\n",
    "\n",
    "import maroc.toolkit.toolkit as tk\n",
    "# après avoir modifié ma_classe.py\n",
    "importlib.reload(goutte)\n",
    "# maintenant, la classe est mise à jour dans le notebook\n",
    "# obj = ma_classe.MaClasse()\n",
    "siz = 401\n",
    "ang = float(np.deg2rad(37.0))\n",
    "hei = 3/4*siz\n",
    "\n",
    "goutte = goutte.Goutte(hei, ang, (siz/2, siz/2), width = 1)"
   ]
  },
  {
   "cell_type": "code",
   "execution_count": 5,
   "metadata": {},
   "outputs": [
    {
     "name": "stdout",
     "output_type": "stream",
     "text": [
      "top: [200.5   350.875]\n",
      "right: [269.19931998 145.55437541]\n",
      "bottom: [200.5    50.125]\n"
     ]
    }
   ],
   "source": [
    "print(f\"top: {goutte.top_pt}\")\n",
    "print(f\"right: {goutte.r_pt}\")\n",
    "print(f\"bottom: {goutte.bot_pt}\")\n",
    "\n"
   ]
  },
  {
   "cell_type": "markdown",
   "metadata": {},
   "source": [
    "Du coup l'idée est de choper n points sur le flanc de l'arc.\n",
    "Pour faire ça, on va s'inspirer de ce qu'on a fait pour le rendering.\n",
    "L'entrée donc c'est n points dont les positions verticales sont comprises entre l'ordonnée du point bas et du point haut.\n",
    "Ce qu'on veut, c'est la différence entre l'abscisse de ces points sur la goutte en ces ordonnées et l'ordonnée de l'axe central de la goutte dont l'abscisse est l'abscisse du point haut et du bas."
   ]
  },
  {
   "cell_type": "code",
   "execution_count": 6,
   "metadata": {},
   "outputs": [],
   "source": [
    "n = 100\n",
    "min_h = goutte.bot_pt[1]\n",
    "max_h = goutte.top_pt[1]\n",
    "inter_h = goutte.r_pt[1]\n",
    "\n",
    "hs = np.linspace(min_h, max_h, n)\n",
    "up_pts = []\n",
    "down_pts = []\n",
    "# inter_h"
   ]
  },
  {
   "cell_type": "code",
   "execution_count": 7,
   "metadata": {},
   "outputs": [
    {
     "name": "stdout",
     "output_type": "stream",
     "text": [
      "line length: 216.50901931949016\n",
      "half arc length: 137.18384153993884\n",
      "total length: 353.692860859429\n",
      "-------------\n",
      "line frac: 0.6121385056893729\n",
      "half arc frac: 0.3878614943106271\n"
     ]
    }
   ],
   "source": [
    "# get the length of the line.\n",
    "line_length = goutte.right_line.get_length()\n",
    "harc_length = goutte.arc.get_length() / 2.0\n",
    "total_length = line_length + harc_length\n",
    "# plot the 3 lengths\n",
    "print(f\"line length: {line_length}\")\n",
    "print(f\"half arc length: {harc_length}\")\n",
    "print(f\"total length: {total_length}\")\n",
    "print(\"-------------\")\n",
    "lfrac = line_length / total_length\n",
    "afrac = harc_length / total_length\n",
    "print(f\"line frac: {lfrac}\")\n",
    "print(f\"half arc frac: {afrac}\")\n"
   ]
  },
  {
   "cell_type": "markdown",
   "metadata": {},
   "source": [
    "Maintenant je dois récupérer les points sur la goutte.\n",
    "soit n le nombre de points à placer."
   ]
  },
  {
   "cell_type": "code",
   "execution_count": 8,
   "metadata": {},
   "outputs": [
    {
     "name": "stdout",
     "output_type": "stream",
     "text": [
      "Il y a 12.24 points à placer sur la ligne\n",
      "Comme on doit placer un nombre entier de points, il y a 12 points à placer sur la ligne\n",
      "Il reste 0.24 de la distance entre 2 points entre le dernier point et la fin de la ligne\n",
      "--------------------------------\n",
      "pt 1: 5.611419584396771, 0.08168086067987412\n",
      "pt 2: 11.222839168793513, 0.16336172135974825\n",
      "pt 3: 16.834258753190284, 0.24504258203962237\n",
      "pt 4: 22.445678337587026, 0.3267234427194965\n",
      "pt 5: 28.057097921983797, 0.4084043033993706\n",
      "pt 6: 33.66851750638057, 0.49008516407924474\n",
      "pt 7: 39.27993709077731, 0.5717660247591189\n",
      "pt 8: 44.89135667517405, 0.653446885438993\n",
      "pt 9: 50.50277625957082, 0.7351277461188671\n",
      "pt 10: 56.11419584396759, 0.8168086067987412\n",
      "pt 11: 61.725615428364335, 0.8984894674786154\n",
      "pt 12: 67.33703501276113, 0.9801703281584895\n"
     ]
    }
   ],
   "source": [
    "import numpy as np\n",
    "import math\n",
    "n = 20\n",
    "frac_points = n * lfrac\n",
    "print(f\"Il y a {np.round(frac_points, 2)} points à placer sur la ligne\")\n",
    "n_pts_line = math.floor(frac_points)\n",
    "print(f\"Comme on doit placer un nombre entier de points, il y a {n_pts_line} points à placer sur la ligne\")\n",
    "reste = frac_points - n_pts_line\n",
    "print(f\"Il reste {np.round(reste, 2)} de la distance entre 2 points entre le dernier point et la fin de la ligne\")\n",
    "print(\"--------------------------------\")   \n",
    "for i in range(1,n_pts_line+1):\n",
    "    frac = i / frac_points\n",
    "    pt = tk.interpolate_pts(goutte.top_pt, goutte.r_pt, frac)\n",
    "    rpos = abs(goutte.top_pt[0] - pt[0])\n",
    "    print(f\"pt {i}: {rpos}, {frac}\")"
   ]
  },
  {
   "cell_type": "code",
   "execution_count": 9,
   "metadata": {},
   "outputs": [
    {
     "name": "stdout",
     "output_type": "stream",
     "text": [
      "Il y a 8.0 points à placer sur l'arc\n",
      "Comme on doit placer un nombre entier de points, il y a 8 points à placer sur l'arc\n",
      "Il reste 0.0 de la distance entre 2 points entre le dernier point et la fin de l'arc\n",
      "Le premier point est à placer à 0.76 de la distance entre 2 points du début de l'arc\n",
      "--------------------------------\n",
      "pt: 13\n",
      "xpos: 71.75387631768956\n",
      "pt: 14\n",
      "xpos: 72.03564049035174\n",
      "pt: 15\n",
      "xpos: 68.04580575470652\n",
      "pt: 16\n",
      "xpos: 60.02096296474076\n",
      "pt: 17\n",
      "xpos: 48.43697253437759\n",
      "pt: 18\n",
      "xpos: 33.98074667178736\n",
      "pt: 19\n",
      "xpos: 17.509516577977422\n",
      "pt: 20\n",
      "xpos: 0.0\n"
     ]
    }
   ],
   "source": [
    "import maroc.lampe.arc as arc\n",
    "importlib.reload(arc)\n",
    "\n",
    "frac_points = n * afrac + reste\n",
    "print(f\"Il y a {np.round(frac_points, 2)} points à placer sur l'arc\")\n",
    "n_pts_arc = int(np.round(frac_points, 1))\n",
    "print(f\"Comme on doit placer un nombre entier de points, il y a {n_pts_arc} points à placer sur l'arc\")\n",
    "reste2 = frac_points - n_pts_arc\n",
    "print(f\"Il reste {np.round(reste2, 2)} de la distance entre 2 points entre le dernier point et la fin de l'arc\")\n",
    "print(f\"Le premier point est à placer à {np.round(1.0 - reste, 2)} de la distance entre 2 points du début de l'arc\")\n",
    "print(\"--------------------------------\")\n",
    "\n",
    "offset = (1.0 - reste)\n",
    "ang_start = goutte.arc.ang_start\n",
    "ang_end = 3 * np.pi /2.0\n",
    "test_arc = arc.Arc(\n",
    "    center=goutte.arc.center,\n",
    "    a = goutte.arc.a,\n",
    "    b = goutte.arc.b,\n",
    "    ang_start=ang_start,\n",
    "    ang_end=ang_end\n",
    ")\n",
    "for i in range(n_pts_arc):\n",
    "    print(f'pt: {n_pts_line+1+i}')\n",
    "    # print(f\"pt {i + offset}\")\n",
    "    frac = min((i + offset) / (n*afrac), 1.0)\n",
    "    # print(f\"frac: {frac}\")\n",
    "    ang = test_arc.interpolate(frac)\n",
    "    # print(f\"ang: {np.rad2deg(ang)}\")\n",
    "    pt = test_arc.rad2point(ang)\n",
    "    # print(f\"pt: {pt}\")\n",
    "    xpos = pt[0] - goutte.top_pt[0]\n",
    "    print(f\"xpos: {xpos}\")\n"
   ]
  },
  {
   "cell_type": "markdown",
   "metadata": {},
   "source": [
    "Maintenant, on fait la fonction, bitch."
   ]
  },
  {
   "cell_type": "code",
   "execution_count": 10,
   "metadata": {},
   "outputs": [],
   "source": [
    "def get_pts_on_goutte(goutte, n_pts):\n",
    "    up_pts = []\n",
    "    down_pts = []\n",
    "    half_arc = init_half_arc(goutte)\n",
    "    lfrac, afrac = get_len_fractions(goutte, half_arc)\n",
    "    print(f\"lfrac: {lfrac}, afrac: {afrac}\")\n",
    "    # get line points\n",
    "    up_pts, reste = get_pts_on_line(goutte, n_pts, lfrac)\n",
    "    # get half_arc points\n",
    "    down_pts = get_pts_on_arc(half_arc, n_pts, afrac, reste)\n",
    "    # return the concatenation of the two lists of points\n",
    "    pts = up_pts + down_pts\n",
    "    return pts\n",
    "\n",
    "def init_half_arc(goutte):\n",
    "    ang_start = goutte.arc.ang_start\n",
    "    ang_end = 3 * np.pi /2.0\n",
    "    half_arc = arc.Arc(\n",
    "        center=goutte.arc.center,\n",
    "        a = goutte.arc.a,\n",
    "        b = goutte.arc.b,\n",
    "        ang_start=ang_start,\n",
    "        ang_end=ang_end\n",
    "    )\n",
    "    return half_arc\n",
    "def get_pts_on_line(goutte, n_pts, lfrac):\n",
    "    n_pts_line_frac = n_pts * lfrac\n",
    "    n_pts_line = math.floor(n_pts_line_frac)\n",
    "    reste = n_pts_line_frac - n_pts_line\n",
    "    pts = []\n",
    "    for i in range(1, int(n_pts_line_frac)+1):\n",
    "        frac = i / n_pts_line_frac\n",
    "        pt = list(tk.interpolate_pts(goutte.top_pt, goutte.r_pt, frac))\n",
    "        pt[0] = pt[0] - goutte.top_pt[0]\n",
    "        pts.append(pt)\n",
    "        # print(f\"pt {i}: {rpos}, {frac}\")\n",
    "    return pts, reste\n",
    "\n",
    "def get_pts_on_arc(half_arc, n_pts, afrac, reste):\n",
    "    n_pts_harc_frac = n_pts * afrac + reste\n",
    "    offset = (1.0 - reste)\n",
    "    n_pts_harc = int(\n",
    "        np.round(n_pts_harc_frac, 1)\n",
    "    )\n",
    "    pts = []\n",
    "    for i in range(n_pts_harc):\n",
    "        # print(f'point n°: {n_pts_line+1+i}')\n",
    "        # print(f\"pt {i + offset}\")\n",
    "        frac = min((i + offset) / (n_pts_harc_frac), 1.0)\n",
    "        # print(f\"frac: {frac}\")\n",
    "        ang = half_arc.interpolate(frac)\n",
    "        # print(f\"ang: {np.rad2deg(ang)}\")\n",
    "        pt = list(half_arc.rad2point(ang))\n",
    "        # print(f\"pt: {pt}\")\n",
    "        pt[0] = pt[0] - half_arc.center[0]\n",
    "        pts.append(pt)\n",
    "        # print(f\"xpos: {xpos}\")\n",
    "    return pts\n",
    "def get_len_fractions(goutte, half_arc):\n",
    "    line_length = goutte.right_line.get_length()\n",
    "    harc_length = half_arc.get_length()\n",
    "    total_length = line_length + harc_length\n",
    "    lfrac = line_length / total_length\n",
    "    afrac = harc_length / total_length\n",
    "    return lfrac, afrac\n"
   ]
  },
  {
   "cell_type": "code",
   "execution_count": 11,
   "metadata": {},
   "outputs": [
    {
     "name": "stdout",
     "output_type": "stream",
     "text": [
      "lfrac: 0.612138505689373, afrac: 0.387861494310627\n"
     ]
    },
    {
     "data": {
      "text/plain": [
       "[[np.float64(11.222839168793513), np.float64(317.33346933694486)],\n",
       " [np.float64(22.445678337587026), np.float64(283.7919386738897)],\n",
       " [np.float64(33.66851750638054), np.float64(250.25040801083458)],\n",
       " [np.float64(44.89135667517405), np.float64(216.70887734777946)],\n",
       " [np.float64(56.11419584396759), np.float64(183.16734668472432)],\n",
       " [np.float64(67.33703501276108), np.float64(149.62581602166918)],\n",
       " [np.float64(72.12939010906888), np.float64(115.8354833798642)],\n",
       " [np.float64(61.126628542891524), np.float64(83.68976546285143)],\n",
       " [np.float64(36.6777142417595), np.float64(60.0961533617296)],\n",
       " [np.float64(4.16072618259787), np.float64(50.24458343391373)]]"
      ]
     },
     "execution_count": 11,
     "metadata": {},
     "output_type": "execute_result"
    }
   ],
   "source": [
    "n_pts=10\n",
    "pts = get_pts_on_goutte(goutte, n_pts)\n",
    "pts"
   ]
  },
  {
   "cell_type": "markdown",
   "metadata": {},
   "source": [
    "# Merging des méthodes\n",
    "Maintenant, je mélange les deux méthodes"
   ]
  },
  {
   "cell_type": "code",
   "execution_count": 12,
   "metadata": {},
   "outputs": [
    {
     "data": {
      "application/vnd.jupyter.widget-view+json": {
       "model_id": "a79e3d25c07346ee8508acce5034d472",
       "version_major": 2,
       "version_minor": 0
      },
      "text/plain": [
       "interactive(children=(FloatSlider(value=137.5, description='offset', max=140.0, min=135.0), FloatSlider(value=…"
      ]
     },
     "metadata": {},
     "output_type": "display_data"
    },
    {
     "data": {
      "text/plain": [
       "<function __main__.update_plot(offset=137.5, npts=100, elev=0)>"
      ]
     },
     "execution_count": 12,
     "metadata": {},
     "output_type": "execute_result"
    }
   ],
   "source": [
    "import numpy as np\n",
    "import matplotlib.pyplot as plt\n",
    "from ipywidgets import interact, FloatSlider\n",
    "from mpl_toolkits.mplot3d import Axes3D\n",
    "import importlib\n",
    "\n",
    "from maroc.goutte import goutte\n",
    "import maroc.toolkit.toolkit as tk\n",
    "\n",
    "importlib.reload(goutte)\n",
    "\n",
    "\n",
    "def get_angle(h, offset=137.5):\n",
    "    \"\"\"Get the angle for a given height\"\"\"\n",
    "    return np.deg2rad(h * offset)\n",
    "\n",
    "# Data setup\n",
    "\n",
    "\n",
    "# The key change is making the plot update function completely self-contained\n",
    "def update_plot(offset=137.5, npts=100, elev=0):\n",
    "    npts = int(npts)\n",
    "    # Create new figure each time\n",
    "    fig = plt.figure(figsize=(8, 6))\n",
    "    ax = fig.add_subplot(111, projection='3d')\n",
    "    h = np.arange(npts)\n",
    "    # Calculate points\n",
    "    angles = get_angle(h, offset)\n",
    "    pts1 = get_pts_on_goutte(goutte, npts)\n",
    "    pts1 = np.array(pts1)\n",
    "    # assert pts1.shape == angles.shape\n",
    "    pts2 = tk.rad2point(\n",
    "        center=(0.0, 0.0), \n",
    "        rad=pts1[:,0], \n",
    "        angle=angles\n",
    "    )\n",
    "    x, y = pts2\n",
    "\n",
    "\n",
    "    # Create new scatter plot\n",
    "    ax.scatter(x, y, pts1[:,1])\n",
    "    ax.set_xlabel('x')\n",
    "    ax.set_ylabel('y')\n",
    "    ax.set_zlabel('h')\n",
    "    ax.view_init(elev=elev, azim=45)  # elev is vertical angle, azim is horizontal rotation\n",
    "    # make x and y axes go in the interval [-1, 1]\n",
    "    w = 175\n",
    "    ax.set_xlim(-w, w)\n",
    "    ax.set_ylim(-w, w)\n",
    "    plt.show()\n",
    "\n",
    "# Interactive slider\n",
    "offset_slider = FloatSlider(\n",
    "    min=135, \n",
    "    max=140, \n",
    "    step=0.1, \n",
    "    value=137.5, \n",
    "    description='offset'\n",
    ")\n",
    "\n",
    "npts_slider = FloatSlider(\n",
    "    min=10, \n",
    "    max=1000, \n",
    "    step=10, \n",
    "    value=100, \n",
    "    description='npts'\n",
    ")\n",
    "elev_slider = FloatSlider(\n",
    "    min=-90, \n",
    "    max=90, \n",
    "    step=1, \n",
    "    value=0, \n",
    "    description='elev'\n",
    ")\n",
    "siz = 401\n",
    "ang = float(np.deg2rad(40.0))\n",
    "hei = 3/4*siz\n",
    "\n",
    "goutte = goutte.Goutte(hei, ang, (siz/2, siz/2), width = 1)\n",
    "\n",
    "# Create interactive plot\n",
    "interact(update_plot, offset=offset_slider, npts=npts_slider, elev=elev_slider)\n"
   ]
  },
  {
   "cell_type": "code",
   "execution_count": null,
   "metadata": {},
   "outputs": [],
   "source": []
  }
 ],
 "metadata": {
  "kernelspec": {
   "display_name": "Python 3",
   "language": "python",
   "name": "python3"
  },
  "language_info": {
   "codemirror_mode": {
    "name": "ipython",
    "version": 3
   },
   "file_extension": ".py",
   "mimetype": "text/x-python",
   "name": "python",
   "nbconvert_exporter": "python",
   "pygments_lexer": "ipython3",
   "version": "3.12.7"
  }
 },
 "nbformat": 4,
 "nbformat_minor": 2
}
